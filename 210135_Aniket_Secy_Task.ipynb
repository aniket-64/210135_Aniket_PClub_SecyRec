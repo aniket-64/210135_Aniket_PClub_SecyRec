{
  "cells": [
    {
      "cell_type": "code",
      "execution_count": 1,
      "metadata": {
        "id": "bnatEleOCkXL"
      },
      "outputs": [],
      "source": [
        "import numpy as np\n",
        "import pandas as pd\n",
        "import matplotlib as plt"
      ]
    },
    {
      "cell_type": "markdown",
      "source": [
        "Importing the libraries to be used."
      ],
      "metadata": {
        "id": "sOiYtURdunA3"
      }
    },
    {
      "cell_type": "code",
      "execution_count": 2,
      "metadata": {
        "id": "HWPtFCZHCqVv"
      },
      "outputs": [],
      "source": [
        "from keras.datasets import mnist"
      ]
    },
    {
      "cell_type": "markdown",
      "source": [
        "Using keras only to import the dataset."
      ],
      "metadata": {
        "id": "TJc_ic7Juu9A"
      }
    },
    {
      "cell_type": "code",
      "execution_count": 3,
      "metadata": {
        "id": "88mucL_aCzn0",
        "colab": {
          "base_uri": "https://localhost:8080/"
        },
        "outputId": "8851e0e9-d413-4495-e642-aa8b2e0a0368"
      },
      "outputs": [
        {
          "output_type": "stream",
          "name": "stdout",
          "text": [
            "Downloading data from https://storage.googleapis.com/tensorflow/tf-keras-datasets/mnist.npz\n",
            "11493376/11490434 [==============================] - 0s 0us/step\n",
            "11501568/11490434 [==============================] - 0s 0us/step\n"
          ]
        }
      ],
      "source": [
        "(train_X, train_y), (test_X, test_y) = mnist.load_data()"
      ]
    },
    {
      "cell_type": "code",
      "execution_count": 4,
      "metadata": {
        "colab": {
          "base_uri": "https://localhost:8080/"
        },
        "id": "qk7unl1ZTmhL",
        "outputId": "a7de25fa-43b0-4a06-b5da-fa9b87f90c8c"
      },
      "outputs": [
        {
          "output_type": "stream",
          "name": "stdout",
          "text": [
            "<class 'numpy.ndarray'>\n",
            "784\n"
          ]
        }
      ],
      "source": [
        "train_X_upd = np.zeros(784*train_X.shape[0]).reshape(train_X.shape[0], 784)\n",
        "for i in range(train_X.shape[0]):\n",
        "  train_X_upd[i] = train_X[i].reshape(784)\n",
        "  train_X_upd[i] = train_X_upd[i]/256\n",
        "\n",
        "print(type(train_X_upd[1]))\n",
        "print(train_X_upd[1].size)"
      ]
    },
    {
      "cell_type": "markdown",
      "source": [
        "Process the data to convert it from a 28x28 array to a 784x1 array. Further, the input is normalised by dividing the values by 256, so that the input layer activations lie between 0 and 1. "
      ],
      "metadata": {
        "id": "8QW7n4wZu2FK"
      }
    },
    {
      "cell_type": "code",
      "execution_count": 5,
      "metadata": {
        "colab": {
          "base_uri": "https://localhost:8080/"
        },
        "id": "LtNZlxdBG9NE",
        "outputId": "b87e5afa-c520-4f31-f2be-8c5b6aa7f7f6"
      },
      "outputs": [
        {
          "output_type": "execute_result",
          "data": {
            "text/plain": [
              "array([0., 0., 0., 0., 0., 1., 0., 0., 0., 0.])"
            ]
          },
          "metadata": {},
          "execution_count": 5
        }
      ],
      "source": [
        "def output(x):\n",
        "  out = np.zeros(10)\n",
        "  out[x] = 1.0\n",
        "  return out\n",
        "\n",
        "w = output(train_y[0])\n",
        "w"
      ]
    },
    {
      "cell_type": "code",
      "execution_count": 6,
      "metadata": {
        "id": "Qu7-EaDDOs0F"
      },
      "outputs": [],
      "source": [
        "output_arr = np.zeros(10*train_y.shape[0])\n",
        "output_arr = output_arr.reshape(train_y.shape[0], 10)\n",
        "output_arr.shape\n",
        "\n",
        "for i in range(train_y.shape[0]):\n",
        "  output_arr[i] = output(train_y[i])\n",
        "\n",
        "output_arr\n",
        "train_y = output_arr.copy()"
      ]
    },
    {
      "cell_type": "markdown",
      "source": [
        "Convert the labels into an array of size 10x1 which can be directly compared with the output layer activations."
      ],
      "metadata": {
        "id": "qOLCpzD0vVh2"
      }
    },
    {
      "cell_type": "code",
      "execution_count": 7,
      "metadata": {
        "id": "N9E6OAk6PuT2"
      },
      "outputs": [],
      "source": [
        "weights_1 = np.zeros(20*784)\n",
        "weights_2 = np.zeros(20*10)\n",
        "weights_1 = weights_1.reshape(20, 784)\n",
        "weights_2 = weights_2.reshape(10, 20)"
      ]
    },
    {
      "cell_type": "markdown",
      "source": [
        "Initialise the matrices storing the weights and biases."
      ],
      "metadata": {
        "id": "kGOdq2xHvsym"
      }
    },
    {
      "cell_type": "code",
      "execution_count": 8,
      "metadata": {
        "colab": {
          "base_uri": "https://localhost:8080/"
        },
        "id": "gW_bsqno4AZr",
        "outputId": "0128c066-9ee1-4c2f-ba26-a6cb57c5a9d8"
      },
      "outputs": [
        {
          "output_type": "execute_result",
          "data": {
            "text/plain": [
              "(60000, 10)"
            ]
          },
          "metadata": {},
          "execution_count": 8
        }
      ],
      "source": [
        "train_y.shape"
      ]
    },
    {
      "cell_type": "code",
      "execution_count": 9,
      "metadata": {
        "colab": {
          "base_uri": "https://localhost:8080/"
        },
        "id": "mX7PNnv0QjN3",
        "outputId": "9d991ff0-47bb-48e0-bb50-75887ae7c0ce"
      },
      "outputs": [
        {
          "output_type": "stream",
          "name": "stdout",
          "text": [
            "(20, 784)\n",
            "(10, 20)\n"
          ]
        }
      ],
      "source": [
        "weights_1 = np.random.normal(size = (20, 784))\n",
        "#weights_1 = weights_1/1000\n",
        "#print(weights_1)\n",
        "print(weights_1.shape)\n",
        "weights_2 = np.random.normal(size = (10, 20))\n",
        "#weights_2 = weights_2/1000\n",
        "#print(weights_2)\n",
        "print(weights_2.shape)"
      ]
    },
    {
      "cell_type": "code",
      "execution_count": 10,
      "metadata": {
        "colab": {
          "base_uri": "https://localhost:8080/"
        },
        "id": "3t35aly7SNuY",
        "outputId": "7fd06046-5982-4ed4-eb4a-fdc691bdbfd9"
      },
      "outputs": [
        {
          "output_type": "stream",
          "name": "stdout",
          "text": [
            "[ 1.22064634  1.20750232  1.3322664  -1.25315217  0.47681739  1.41691943\n",
            "  0.77461365  0.21373472 -1.43695739  0.50442407  3.15298022 -1.59641728\n",
            "  0.34782812 -0.26568961  0.05641448  0.3423221   0.36887472  0.50624228\n",
            " -1.73609729 -1.18555135]\n",
            "(20,)\n",
            "[-0.15857874  1.10055986  0.60768007  0.7620109  -0.79331765  0.84428034\n",
            " -0.13694238  1.21508766  0.25607097  0.44114827]\n",
            "(10,)\n"
          ]
        }
      ],
      "source": [
        "biases_1 = np.random.normal(size = 20)\n",
        "print(biases_1)\n",
        "print(biases_1.shape)\n",
        "biases_2 = np.random.normal(size = 10)\n",
        "print(biases_2)\n",
        "print(biases_2.shape)"
      ]
    },
    {
      "cell_type": "markdown",
      "source": [
        "Initialise the weights and biases with values from the normal distribution."
      ],
      "metadata": {
        "id": "yNYQ7JfZv1pr"
      }
    },
    {
      "cell_type": "code",
      "execution_count": 11,
      "metadata": {
        "id": "f0hdoeQ9Ssa_"
      },
      "outputs": [],
      "source": [
        "hiddenlayer_1 = np.zeros(20)\n",
        "hl_1_z = np.zeros(20)"
      ]
    },
    {
      "cell_type": "code",
      "execution_count": 12,
      "metadata": {
        "id": "U-5URLTKS7f6"
      },
      "outputs": [],
      "source": [
        "inputlayer = np.zeros(784)"
      ]
    },
    {
      "cell_type": "code",
      "execution_count": 13,
      "metadata": {
        "id": "VKmOJnbTTAhO"
      },
      "outputs": [],
      "source": [
        "outputlayer = np.zeros(10)\n",
        "ol_z = np.zeros(10)"
      ]
    },
    {
      "cell_type": "markdown",
      "source": [
        "Create the layers of the neural net."
      ],
      "metadata": {
        "id": "I2n-jieAwAPU"
      }
    },
    {
      "cell_type": "code",
      "execution_count": 14,
      "metadata": {
        "colab": {
          "base_uri": "https://localhost:8080/"
        },
        "id": "djEVWRuOjnKx",
        "outputId": "3879f048-e0c8-44f5-a01f-a10cf2805b33"
      },
      "outputs": [
        {
          "output_type": "execute_result",
          "data": {
            "text/plain": [
              "array(0.00669285)"
            ]
          },
          "metadata": {},
          "execution_count": 14
        }
      ],
      "source": [
        "def sigmoid_num(x):\n",
        "  if(x > 20):\n",
        "    return 1\n",
        "  if(x < -20):\n",
        "    return 0\n",
        "  return (1/(1 + np.exp(-x)))\n",
        "\n",
        "sigmoid = np.vectorize(sigmoid_num)\n",
        "sigmoid(-5)"
      ]
    },
    {
      "cell_type": "markdown",
      "source": [
        "The sigmoid function is the activation function. It has been vectorised to make it easy to apply on numpy arrays. Also to avoid np.exp overflow issues, sigmoid has been defines specifically for |x|>20."
      ],
      "metadata": {
        "id": "ylCalr84wFwz"
      }
    },
    {
      "cell_type": "code",
      "execution_count": 15,
      "metadata": {
        "colab": {
          "base_uri": "https://localhost:8080/"
        },
        "id": "P3dWBbHpTLIj",
        "outputId": "404bf4bc-e9bb-4cd0-dcde-5e7cd4944e14"
      },
      "outputs": [
        {
          "output_type": "stream",
          "name": "stdout",
          "text": [
            "[  3.24771762  -6.37457949   4.87170967   8.3734047   17.51443475\n",
            "  -7.7204843   -0.34139499 -17.23148877 -14.2516053   -1.85417363\n",
            "   2.24104325   9.88785427  11.97166063  -9.48347363   3.63546879\n",
            "  17.98470011   2.18114539  -0.62516614  17.28374663  14.16825928]\n",
            "[0.65294879 0.99718024 0.54623235 0.02367822 0.07918248 0.64149949\n",
            " 0.94420398 0.45835695 0.00163452 0.97831872]\n"
          ]
        }
      ],
      "source": [
        "def feed(x):\n",
        "  global hiddenlayer_1\n",
        "  global outputlayer\n",
        "  global hl_1_z\n",
        "  global ol_z\n",
        "  np.matmul(weights_1, x, out = hl_1_z)\n",
        "  hl_1_z += biases_1\n",
        "  hiddenlayer_1 = sigmoid(hl_1_z)\n",
        "  np.matmul(weights_2, hiddenlayer_1, out = ol_z)\n",
        "  ol_z += biases_2\n",
        "  outputlayer = sigmoid(ol_z)\n",
        "  \n",
        "feed(train_X_upd[1])\n",
        "print(hl_1_z)\n",
        "print(outputlayer)"
      ]
    },
    {
      "cell_type": "markdown",
      "source": [
        "Function to obtain the output for a given input."
      ],
      "metadata": {
        "id": "H_sleu0Ewfbv"
      }
    },
    {
      "cell_type": "code",
      "execution_count": 16,
      "metadata": {
        "id": "3ZOktsV3s7CC"
      },
      "outputs": [],
      "source": [
        "def cost_error(res):\n",
        "  return np.dot((outputlayer - res), (outputlayer - res))"
      ]
    },
    {
      "cell_type": "code",
      "execution_count": 17,
      "metadata": {
        "colab": {
          "base_uri": "https://localhost:8080/"
        },
        "id": "voSjj4X0tpCZ",
        "outputId": "9ad9ee51-1ce8-43ad-c20c-dcc39281c12f"
      },
      "outputs": [
        {
          "output_type": "stream",
          "name": "stdout",
          "text": [
            "1.945128657746301\n"
          ]
        }
      ],
      "source": [
        "def cost(sample, sample_y):\n",
        "  c = 0.0\n",
        "  for i in range(sample.shape[0]):\n",
        "    c += cost_error(sample_y[i])\n",
        "  c/=(2*sample.shape[0])\n",
        "  return c\n",
        "\n",
        "a = cost(train_X_upd[1].reshape(1,784), train_y[1].reshape(1,10))\n",
        "print(a)"
      ]
    },
    {
      "cell_type": "markdown",
      "source": [
        "Cost function - returns the quadratic function $x^2/2$. "
      ],
      "metadata": {
        "id": "aOM4mCunwsu6"
      }
    },
    {
      "cell_type": "code",
      "execution_count": 18,
      "metadata": {
        "id": "vMYbB8PypiL7"
      },
      "outputs": [],
      "source": [
        "def sigmoid_prime_num(x):\n",
        "  return ((sigmoid_num(x))*(1 - sigmoid_num(x)))\n",
        "\n",
        "sigmoid_prime = np.vectorize(sigmoid_prime_num)\n",
        "\n",
        "error_output = np.zeros(10)\n",
        "error_hl_1 = np.zeros(20)\n",
        "temp = np.zeros(20)\n",
        "def backpropagate(res):\n",
        "  global error_output\n",
        "  global error_hl_1\n",
        "  global outputlayer\n",
        "  global temp\n",
        "  np.multiply(outputlayer - res, sigmoid_prime(ol_z), out = error_output)\n",
        "  np.matmul(np.transpose(weights_2), error_output, out = temp)\n",
        "  np.multiply(temp, sigmoid_prime(hl_1_z), out = error_hl_1)\n",
        "\n",
        "backpropagate(train_y[1])"
      ]
    },
    {
      "cell_type": "markdown",
      "source": [
        "sigmoid_prime is the derivative of the sigmoid function."
      ],
      "metadata": {
        "id": "GdPqgHpcxF5T"
      }
    },
    {
      "cell_type": "code",
      "execution_count": 19,
      "metadata": {
        "colab": {
          "base_uri": "https://localhost:8080/"
        },
        "id": "az_EEaLlSUzH",
        "outputId": "f1e8b52c-e6f8-44b3-e02a-4096721b1c1a"
      },
      "outputs": [
        {
          "output_type": "stream",
          "name": "stdout",
          "text": [
            "[[ 0.  0.  0. ...  0.  0.  0.]\n",
            " [ 0.  0.  0. ...  0.  0.  0.]\n",
            " [-0. -0. -0. ... -0. -0. -0.]\n",
            " ...\n",
            " [-0. -0. -0. ... -0. -0. -0.]\n",
            " [-0. -0. -0. ... -0. -0. -0.]\n",
            " [ 0.  0.  0. ...  0.  0.  0.]]\n",
            "[[-7.57021229e-02 -1.33807978e-04 -7.80462653e-02 -7.86259629e-02\n",
            "  -7.86441179e-02 -3.48746533e-05 -3.26743241e-02 -2.58300801e-09\n",
            "  -5.08478315e-08 -1.06471248e-02 -7.10844648e-02 -7.86401259e-02\n",
            "  -7.86436227e-02 -5.98429427e-06 -7.66234395e-02 -7.86441186e-02\n",
            "  -7.06651656e-02 -2.74159227e-02 -7.86441174e-02 -7.86440646e-02]\n",
            " [ 2.69899264e-03  4.77062904e-06  2.78256788e-03  2.80323572e-03\n",
            "   2.80388300e-03  1.24337904e-06  1.16493114e-03  9.20914676e-11\n",
            "   1.81286756e-09  3.79599811e-04  2.53436020e-03  2.80374067e-03\n",
            "   2.80386534e-03  2.13356846e-07  2.73184015e-03  2.80388302e-03\n",
            "   2.51941101e-03  9.77454406e-04  2.80388298e-03  2.80388109e-03]\n",
            " [ 1.30325729e-01  2.30358431e-04  1.34361311e-01  1.35359295e-01\n",
            "   1.35390550e-01  6.00388002e-05  5.62508020e-02  4.44680268e-09\n",
            "   8.75375812e-08  1.83296618e-02  1.22376155e-01  1.35383677e-01\n",
            "   1.35389697e-01  1.03023203e-05  1.31911831e-01  1.35390551e-01\n",
            "   1.21654306e-01  4.71981497e-02  1.35390549e-01  1.35390458e-01]\n",
            " [ 5.26905601e-04  9.31336799e-07  5.43221415e-04  5.47256254e-04\n",
            "   5.47382618e-04  2.42736260e-07  2.27421421e-04  1.79783781e-11\n",
            "   3.53913552e-10  7.41066366e-05  4.94765552e-04  5.47354832e-04\n",
            "   5.47379171e-04  4.16521763e-08  5.33318194e-04  5.47382623e-04\n",
            "   4.91847126e-04  1.90821640e-04  5.47382614e-04  5.47382246e-04]\n",
            " [ 5.55742471e-03  9.82307671e-06  5.72951229e-03  5.77206890e-03\n",
            "   5.77340168e-03  2.56020905e-06  2.39867905e-03  1.89623117e-10\n",
            "   3.73282788e-09  7.81623981e-04  5.21843438e-03  5.77310862e-03\n",
            "   5.77336533e-03  4.39317467e-07  5.62506017e-03  5.77340174e-03\n",
            "   5.18765290e-03  2.01265064e-03  5.77340165e-03  5.77339777e-03]\n",
            " [ 1.42011728e-01  2.51014124e-04  1.46409170e-01  1.47496641e-01\n",
            "   1.47530698e-01  6.54223367e-05  6.12946777e-02  4.84553691e-09\n",
            "   9.53868680e-08  1.99732390e-02  1.33349334e-01  1.47523210e-01\n",
            "   1.47529770e-01  1.12261049e-05  1.43740051e-01  1.47530700e-01\n",
            "   1.32562759e-01  5.14302956e-02  1.47530697e-01  1.47530598e-01]\n",
            " [ 4.78824864e-02  8.46351255e-05  4.93651842e-02  4.97318498e-02\n",
            "   4.97433330e-02  2.20586299e-05  2.06668958e-02  1.63378306e-09\n",
            "   3.21618537e-08  6.73443216e-03  4.49617632e-02  4.97408080e-02\n",
            "   4.97430198e-02  3.78513678e-06  4.84652301e-02  4.97433335e-02\n",
            "   4.46965515e-02  1.73408948e-02  4.97433327e-02  4.97432993e-02]\n",
            " [ 1.09537449e-01  1.93613917e-04  1.12929314e-01  1.13768109e-01\n",
            "   1.13794379e-01  5.04620004e-05  4.72782265e-02  3.73749239e-09\n",
            "   7.35744459e-08  1.54058942e-02  1.02855913e-01  1.13788603e-01\n",
            "   1.13793662e-01  8.65899533e-06  1.10870551e-01  1.13794380e-01\n",
            "   1.02249206e-01  3.96695644e-02  1.13794378e-01  1.13794302e-01]\n",
            " [ 2.56750542e-06  4.53821762e-09  2.64700911e-06  2.66667008e-06\n",
            "   2.66728582e-06  1.18280516e-09  1.10817902e-06  8.76050342e-14\n",
            "   1.72454983e-12  3.61106792e-07  2.41089340e-06  2.66715043e-06\n",
            "   2.66726903e-06  2.02962709e-10  2.59875270e-06  2.66728584e-06\n",
            "   2.39667249e-06  9.29835617e-07  2.66728580e-06  2.66728401e-06]\n",
            " [ 1.99750261e-02  3.53070396e-05  2.05935597e-02  2.07465208e-02\n",
            "   2.07513112e-02  9.20214765e-06  8.62156112e-03  6.81561502e-10\n",
            "   1.34168861e-08  2.80938749e-03  1.87565948e-02  2.07502579e-02\n",
            "   2.07511806e-02  1.57903676e-06  2.02181280e-02  2.07513114e-02\n",
            "   1.86459570e-02  7.23406098e-03  2.07513111e-02  2.07512971e-02]]\n"
          ]
        }
      ],
      "source": [
        "del_w_1 = np.zeros(20*784).reshape(20,784)\n",
        "del_w_2 = np.zeros(10*20).reshape(10,20)\n",
        "\n",
        "del_bias_1 = np.zeros(20)\n",
        "del_bias_2 = np.zeros(10)\n",
        "\n",
        "def create_del():\n",
        "  global del_w_1\n",
        "  global del_w_2\n",
        "  global del_bias_1\n",
        "  global del_bias_2\n",
        "  np.outer(error_hl_1, np.transpose(inputlayer.reshape(784,1)), out = del_w_1)\n",
        "  np.outer(error_output, np.transpose(hiddenlayer_1), out = del_w_2)\n",
        "  del_bias_1 = error_hl_1.copy()\n",
        "  del_bias_2 = error_output.copy()\n",
        "\n",
        "create_del()\n",
        "print(del_w_1)\n",
        "print(del_w_2)"
      ]
    },
    {
      "cell_type": "markdown",
      "source": [
        "Function to calculate the entries of the gradient of the cost function."
      ],
      "metadata": {
        "id": "IuQJv-9pxNp2"
      }
    },
    {
      "cell_type": "code",
      "execution_count": 20,
      "metadata": {
        "id": "z_H_-cSfWiMA"
      },
      "outputs": [],
      "source": [
        "learnrate = 2.0\n",
        "\n",
        "def learn():\n",
        "  global learnrate\n",
        "  global weights_1\n",
        "  global weights_2\n",
        "  global biases_1\n",
        "  global biases_2\n",
        "  train_X_upd_s = train_X_upd.copy()\n",
        "  train_y_s = train_y.copy()\n",
        "\n",
        "  indices = np.arange(train_X_upd_s.shape[0])\n",
        "  np.random.shuffle(indices)\n",
        "  np.random.shuffle(indices)\n",
        "  train_y_s = train_y_s[indices]\n",
        "  train_X_upd_s = train_X_upd_s[indices]\n",
        "\n",
        "  for i in range(6000):\n",
        "    del_w_1_avg = np.zeros(20*784).reshape(20,784)\n",
        "    del_w_2_avg = np.zeros(10*20).reshape(10,20)\n",
        "\n",
        "    del_bias_1_avg = np.zeros(20)\n",
        "    del_bias_2_avg = np.zeros(10)\n",
        "    avg_cost = 0.0\n",
        "    for j in range(10):\n",
        "      feed(train_X_upd[i*10+j])\n",
        "      avg_cost += cost(train_X_upd_s[i*10+j].reshape(1,784), train_y_s[i*10+j].reshape(10,1))\n",
        "      backpropagate(train_y[i*10+j])\n",
        "      create_del()\n",
        "      del_w_1_avg += del_w_1\n",
        "      del_w_2_avg += del_w_2\n",
        "      del_bias_1_avg += del_bias_1\n",
        "      del_bias_2_avg += del_bias_2\n",
        "    \n",
        "    del_w_1_avg/=10\n",
        "    del_w_2_avg/=10\n",
        "    del_bias_1_avg/=10\n",
        "    del_bias_2_avg/=10\n",
        "    avg_cost/=10\n",
        "    #print(avg_cost)\n",
        "\n",
        "    weights_1 = np.subtract(weights_1, learnrate*del_w_1_avg)\n",
        "    weights_2 = np.subtract(weights_2, learnrate*del_w_2_avg)\n",
        "    biases_1 = np.subtract(biases_1, learnrate*del_bias_1_avg)\n",
        "    biases_2 = np.subtract(biases_2, learnrate*del_bias_2_avg)\n",
        "\n",
        "learn()"
      ]
    },
    {
      "cell_type": "markdown",
      "source": [
        "Function to train the model. It is based on stochastic gradient descent. The weights and biases are updated on the basis of the learning rate."
      ],
      "metadata": {
        "id": "isbQ8LCgxY_f"
      }
    },
    {
      "cell_type": "code",
      "execution_count": 21,
      "metadata": {
        "id": "QyDv0f8BvgPd"
      },
      "outputs": [],
      "source": [
        "learnrate = 2.0 \n",
        "for i in range(30):\n",
        "  learn()"
      ]
    },
    {
      "cell_type": "code",
      "execution_count": 22,
      "metadata": {
        "id": "LpOgy0w6nAgG"
      },
      "outputs": [],
      "source": [
        "learnrate = 0.4\n",
        "for i in range(30):\n",
        "  learn()"
      ]
    },
    {
      "cell_type": "markdown",
      "source": [
        "Train the model."
      ],
      "metadata": {
        "id": "6X2TIvAexvBX"
      }
    },
    {
      "cell_type": "code",
      "execution_count": 23,
      "metadata": {
        "id": "FQoA6B1-dlpu"
      },
      "outputs": [],
      "source": [
        "feed(test_X[0].reshape(784)/256)"
      ]
    },
    {
      "cell_type": "code",
      "execution_count": 24,
      "metadata": {
        "colab": {
          "base_uri": "https://localhost:8080/"
        },
        "id": "vSdDShjhd1LT",
        "outputId": "93fe681b-b849-47a4-e3cf-ebe5a70cbcae"
      },
      "outputs": [
        {
          "output_type": "stream",
          "name": "stdout",
          "text": [
            "[7.96247261e-04 6.45458261e-02 3.87955048e-03 2.12698218e-02\n",
            " 1.18225791e-02 8.82553032e-02 3.80486204e-03 8.61885416e-01\n",
            " 2.73009339e-02 2.94052861e-01]\n"
          ]
        }
      ],
      "source": [
        "print(outputlayer)"
      ]
    },
    {
      "cell_type": "markdown",
      "source": [
        "Just checking to see if the model is able to predict for one value."
      ],
      "metadata": {
        "id": "injxkXE2x124"
      }
    },
    {
      "cell_type": "code",
      "execution_count": 25,
      "metadata": {
        "colab": {
          "base_uri": "https://localhost:8080/"
        },
        "id": "kH3tuq7zGUHA",
        "outputId": "bca4829f-674c-470c-cd6d-573828b1f804"
      },
      "outputs": [
        {
          "output_type": "stream",
          "name": "stdout",
          "text": [
            "7\n"
          ]
        }
      ],
      "source": [
        "print(outputlayer.argmax())"
      ]
    },
    {
      "cell_type": "code",
      "execution_count": 26,
      "metadata": {
        "colab": {
          "base_uri": "https://localhost:8080/"
        },
        "id": "2Azr8ap54sK_",
        "outputId": "905e368f-6ca8-4993-cd6f-634a02ff9a36"
      },
      "outputs": [
        {
          "output_type": "stream",
          "name": "stdout",
          "text": [
            "7\n"
          ]
        }
      ],
      "source": [
        "print(test_y[0])"
      ]
    },
    {
      "cell_type": "code",
      "execution_count": 27,
      "metadata": {
        "colab": {
          "base_uri": "https://localhost:8080/"
        },
        "id": "H0JVe3aLFRsJ",
        "outputId": "c3a39c61-0f48-44ed-e093-6c2c5c326ad9"
      },
      "outputs": [
        {
          "output_type": "stream",
          "name": "stdout",
          "text": [
            "<class 'numpy.ndarray'>\n",
            "784\n"
          ]
        }
      ],
      "source": [
        "test_X_upd = np.zeros(784*test_X.shape[0]).reshape(test_X.shape[0], 784)\n",
        "for i in range(test_X.shape[0]):\n",
        "  test_X_upd[i] = test_X[i].reshape(784)\n",
        "  test_X_upd[i] = test_X_upd[i]/256\n",
        "\n",
        "print(type(test_X_upd[1]))\n",
        "print(test_X_upd[1].size)"
      ]
    },
    {
      "cell_type": "markdown",
      "source": [
        "Process the test set similar to the training set."
      ],
      "metadata": {
        "id": "sJwPCBmeyDlR"
      }
    },
    {
      "cell_type": "code",
      "source": [
        "learnrate = 0.01\n",
        "for i in range(5):\n",
        "  learn()"
      ],
      "metadata": {
        "id": "QQFKfc_C28wS"
      },
      "execution_count": 28,
      "outputs": []
    },
    {
      "cell_type": "markdown",
      "source": [
        "Train finally to fine tune."
      ],
      "metadata": {
        "id": "twaYZJCWxyE6"
      }
    },
    {
      "cell_type": "code",
      "source": [
        "count = 0\n",
        "for i in range(60000):\n",
        "  feed(train_X_upd[i])\n",
        "  if(outputlayer.argmax() == train_y[i].argmax()):\n",
        "    count+=1\n",
        "\n",
        "print(count)"
      ],
      "metadata": {
        "colab": {
          "base_uri": "https://localhost:8080/"
        },
        "id": "7cF7nkuZqz0n",
        "outputId": "c5d4971d-5270-4f7b-e2c6-d8a68dafb051"
      },
      "execution_count": 29,
      "outputs": [
        {
          "output_type": "stream",
          "name": "stdout",
          "text": [
            "35582\n"
          ]
        }
      ]
    },
    {
      "cell_type": "markdown",
      "source": [
        "Number of samples correctly predicted in the training set."
      ],
      "metadata": {
        "id": "jRaHSnjLyLNq"
      }
    },
    {
      "cell_type": "code",
      "execution_count": 30,
      "metadata": {
        "colab": {
          "base_uri": "https://localhost:8080/"
        },
        "id": "qoXVJa0M6Y4U",
        "outputId": "ac2b8306-2de6-4c33-c3b8-f694422a0884"
      },
      "outputs": [
        {
          "output_type": "stream",
          "name": "stdout",
          "text": [
            "6034\n"
          ]
        }
      ],
      "source": [
        "count = 0\n",
        "for i in range(10000):\n",
        "  feed(test_X_upd[i])\n",
        "  if(outputlayer.argmax() == test_y[i]):\n",
        "    count+=1\n",
        "\n",
        "print(count)"
      ]
    },
    {
      "cell_type": "markdown",
      "source": [
        "Number of samples correctly predicted in the test set."
      ],
      "metadata": {
        "id": "-UiS_4EiyUJS"
      }
    },
    {
      "cell_type": "code",
      "source": [
        "accuracy = (count/test_X_upd.shape[0])*100\n",
        "accuracy"
      ],
      "metadata": {
        "colab": {
          "base_uri": "https://localhost:8080/"
        },
        "id": "ggSlgkClya-w",
        "outputId": "f1614c31-a376-46b5-fd70-59891ca5b7ed"
      },
      "execution_count": 32,
      "outputs": [
        {
          "output_type": "execute_result",
          "data": {
            "text/plain": [
              "60.34"
            ]
          },
          "metadata": {},
          "execution_count": 32
        }
      ]
    },
    {
      "cell_type": "markdown",
      "source": [
        "Calculate the accuracy."
      ],
      "metadata": {
        "id": "sMAlueNHypsU"
      }
    }
  ],
  "metadata": {
    "colab": {
      "collapsed_sections": [],
      "name": "SecyRecTask.ipynb",
      "provenance": []
    },
    "kernelspec": {
      "display_name": "Python 3",
      "name": "python3"
    },
    "language_info": {
      "name": "python"
    }
  },
  "nbformat": 4,
  "nbformat_minor": 0
}